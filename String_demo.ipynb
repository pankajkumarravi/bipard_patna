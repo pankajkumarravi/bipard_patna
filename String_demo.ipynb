{
 "cells": [
  {
   "cell_type": "code",
   "execution_count": 18,
   "metadata": {},
   "outputs": [
    {
     "name": "stdout",
     "output_type": "stream",
     "text": [
      "BIPARD-P\n",
      " | python     |         java         |  database |        SQL\n",
      " | python     |         java         |  database |        SQL\n",
      " | python     |         java         |  database |        SQL\n"
     ]
    }
   ],
   "source": [
    "#we can use * fror string repetation\n",
    "str='BIPARD-PATNA'\n",
    "print(str[0:8])\n",
    "\n",
    "#without formating\n",
    "\n",
    "s1=\"python\"\n",
    "s2=\"java\"\n",
    "s3=\"database\"\n",
    "s4=\"SQL\"\n",
    "print(\" | {:<10} | {:^20} |{:>10} | {:>10}\".format(s1,s2,s3,s4))\n",
    "print(\" | {:<10} | {:^20} |{:>10} | {:>10}\".format(s1,s2,s3,s4))\n",
    "print(\" | {:<10} | {:^20} |{:>10} | {:>10}\".format(s1,s2,s3,s4))"
   ]
  },
  {
   "cell_type": "code",
   "execution_count": 29,
   "metadata": {},
   "outputs": [
    {
     "name": "stdout",
     "output_type": "stream",
     "text": [
      "java\n",
      "['Patna', 'Delhi', 'Forbesganj', 'Purnea', 'Araria', 'Bangalore', 'Hyderabad']\n"
     ]
    }
   ],
   "source": [
    "#string methods\n",
    "string1=\"JAVA\"\n",
    "string2=\"SQL\"\n",
    "string3=\"DATABASE\"\n",
    "resp=string1.lower()\n",
    "print(resp)\n",
    "\n",
    "\n",
    "cities=\"Patna,Delhi,Forbesganj,Purnea,Araria,Bangalore,Hyderabad\"\n",
    "print(cities.split(\",\"))\n"
   ]
  }
 ],
 "metadata": {
  "kernelspec": {
   "display_name": "Python 3",
   "language": "python",
   "name": "python3"
  },
  "language_info": {
   "codemirror_mode": {
    "name": "ipython",
    "version": 3
   },
   "file_extension": ".py",
   "mimetype": "text/x-python",
   "name": "python",
   "nbconvert_exporter": "python",
   "pygments_lexer": "ipython3",
   "version": "3.11.8"
  }
 },
 "nbformat": 4,
 "nbformat_minor": 2
}
