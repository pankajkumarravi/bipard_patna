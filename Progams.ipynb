{
 "cells": [
  {
   "cell_type": "code",
   "execution_count": null,
   "metadata": {},
   "outputs": [],
   "source": [
    "#create new dictionary from all three dictionaries\n",
    "dict1={1:10,2:20,3:30}\n",
    "dict2={7:70,8:80,9:90}\n",
    "dict3={11:110,12:220,13:130}\n",
    "merged_dict=dict1.copy\n",
    "\n",
    "#for key,value in dict2.items():\n",
    " #   merged_dict[key]=value;\n",
    "  #  print(merged_dict) \n",
    "\n",
    "\n",
    "#method over loading\n",
    "def add(a,b):\n",
    "    return a+b \n",
    "\n",
    "\n",
    "def add(a,b,c):\n",
    "    return a+b+c   \n",
    "    \n",
    "#calling method overloading- operator overloading\n",
    "print(add(2,5))"
   ]
  }
 ],
 "metadata": {
  "kernelspec": {
   "display_name": "Python 3",
   "language": "python",
   "name": "python3"
  },
  "language_info": {
   "codemirror_mode": {
    "name": "ipython",
    "version": 3
   },
   "file_extension": ".py",
   "mimetype": "text/x-python",
   "name": "python",
   "nbconvert_exporter": "python",
   "pygments_lexer": "ipython3",
   "version": "3.11.8"
  }
 },
 "nbformat": 4,
 "nbformat_minor": 2
}
