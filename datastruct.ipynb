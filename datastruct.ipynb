{
 "cells": [
  {
   "cell_type": "code",
   "execution_count": 4,
   "metadata": {},
   "outputs": [
    {
     "name": "stdout",
     "output_type": "stream",
     "text": [
      "['abcd', 123, 23.4, 'python', 34.5]\n",
      "abcd\n",
      "[123, 23.4]\n"
     ]
    }
   ],
   "source": [
    "#list mylist=[] #\n",
    "myList=list()\n",
    "mylist=['abcd',123,23.4,'python',34.5]\n",
    "print(mylist)\n",
    "print(mylist[0])\n",
    "print(mylist[1:3])\n"
   ]
  },
  {
   "cell_type": "code",
   "execution_count": 7,
   "metadata": {},
   "outputs": [
    {
     "name": "stdout",
     "output_type": "stream",
     "text": [
      "1\n",
      "7\n",
      "4\n"
     ]
    }
   ],
   "source": [
    "mylist=[10,50,80,50,35,90,100,50,80]\n",
    "print(mylist.index(50))\n",
    "print(mylist.index(50,4))\n",
    "print(mylist.index(35,4,8))"
   ]
  },
  {
   "cell_type": "code",
   "execution_count": 9,
   "metadata": {},
   "outputs": [
    {
     "name": "stdout",
     "output_type": "stream",
     "text": [
      "5\n",
      "[1, 2, 3, 4, 5, 6, 7, 8]\n"
     ]
    }
   ],
   "source": [
    "mylist=[1,2,3,4,5]\n",
    "print(len(mylist))\n",
    "mylist.extend([6,7,8])\n",
    "print(mylist)"
   ]
  },
  {
   "cell_type": "code",
   "execution_count": 23,
   "metadata": {},
   "outputs": [
    {
     "name": "stdout",
     "output_type": "stream",
     "text": [
      "[8, 9, 3, 4, 5]\n"
     ]
    }
   ],
   "source": [
    "mylist=[1,2,3,4,5]\n",
    "mylist[:2]=[8,9]\n",
    "print(mylist)"
   ]
  },
  {
   "cell_type": "code",
   "execution_count": 27,
   "metadata": {},
   "outputs": [
    {
     "name": "stdout",
     "output_type": "stream",
     "text": [
      "1\n",
      "5\n"
     ]
    }
   ],
   "source": [
    "mylist=[1,2,3,4,5]\n",
    "print(min(mylist))\n",
    "print(max(mylist))"
   ]
  },
  {
   "cell_type": "code",
   "execution_count": 30,
   "metadata": {},
   "outputs": [
    {
     "name": "stdout",
     "output_type": "stream",
     "text": [
      "[1, 3, 9, 27, 81, 243, 729, 2187, 6561, 19683]\n",
      "[729, 2187, 6561, 19683]\n",
      "[0, 2, 4, 6, 8]\n"
     ]
    }
   ],
   "source": [
    "pow3=[3**x for x in range(10)]\n",
    "print (pow3)\n",
    "pow3=[3**x for x in range(10) if x>5]\n",
    "print (pow3)\n",
    "even=[x for x in range(10) if x%2==0]\n",
    "print(even)"
   ]
  },
  {
   "cell_type": "code",
   "execution_count": 31,
   "metadata": {},
   "outputs": [
    {
     "name": "stdout",
     "output_type": "stream",
     "text": [
      "python\n",
      "c\n"
     ]
    }
   ],
   "source": [
    "my_tup=('python','hadoop','java','c')\n",
    "print(my_tup[0])\n",
    "print(my_tup[-1])"
   ]
  },
  {
   "cell_type": "code",
   "execution_count": 32,
   "metadata": {},
   "outputs": [
    {
     "name": "stdout",
     "output_type": "stream",
     "text": [
      "[50, 80, 90, 40, 60, 200, 300]\n"
     ]
    }
   ],
   "source": [
    "mylist=(10,40,50,80,100,[50,80,90,40])\n",
    "mylist[5].extend([60,200,300])\n",
    "print(mylist[5])"
   ]
  },
  {
   "cell_type": "code",
   "execution_count": 35,
   "metadata": {},
   "outputs": [
    {
     "name": "stdout",
     "output_type": "stream",
     "text": [
      "[(0, 'cdac'), (1, 'patna')]\n"
     ]
    }
   ],
   "source": [
    "my_tuple=(\"cdac\",\"patna\")\n",
    "print(list(enumerate(my_tuple)))"
   ]
  },
  {
   "cell_type": "code",
   "execution_count": 53,
   "metadata": {},
   "outputs": [
    {
     "ename": "TypeError",
     "evalue": "'list' object is not callable",
     "output_type": "error",
     "traceback": [
      "\u001b[1;31m---------------------------------------------------------------------------\u001b[0m",
      "\u001b[1;31mTypeError\u001b[0m                                 Traceback (most recent call last)",
      "Cell \u001b[1;32mIn[53], line 2\u001b[0m\n\u001b[0;32m      1\u001b[0m mylist\u001b[38;5;241m=\u001b[39m[\u001b[38;5;124m\"\u001b[39m\u001b[38;5;124mcdac\u001b[39m\u001b[38;5;124m\"\u001b[39m,\u001b[38;5;124m\"\u001b[39m\u001b[38;5;124mpatna\u001b[39m\u001b[38;5;124m\"\u001b[39m]\n\u001b[1;32m----> 2\u001b[0m \u001b[38;5;28mprint\u001b[39m(\u001b[38;5;28;43mlist\u001b[39;49m\u001b[43m(\u001b[49m\u001b[38;5;28;43menumerate\u001b[39;49m\u001b[43m(\u001b[49m\u001b[43mmylist\u001b[49m\u001b[43m)\u001b[49m\u001b[43m)\u001b[49m)\n",
      "\u001b[1;31mTypeError\u001b[0m: 'list' object is not callable"
     ]
    }
   ],
   "source": [
    "mylist=[\"cdac\",\"patna\"]\n",
    "print(list(enumerate(mylist)))"
   ]
  },
  {
   "cell_type": "code",
   "execution_count": 59,
   "metadata": {},
   "outputs": [
    {
     "name": "stdout",
     "output_type": "stream",
     "text": [
      "CDA\n",
      "DAC INDI\n",
      "CIDA\n",
      "CCNA\n",
      "ADICD\n"
     ]
    }
   ],
   "source": [
    "s='CDAC INDIA'\n",
    "print(s[0:3])\n",
    "print(s[1:-1])\n",
    "print(s[3::2])\n",
    "print(s[::3])\n",
    "print(s[::-2])"
   ]
  },
  {
   "cell_type": "code",
   "execution_count": 62,
   "metadata": {},
   "outputs": [
    {
     "name": "stdout",
     "output_type": "stream",
     "text": [
      "UJAT\n",
      "AAU\n",
      "SA\n"
     ]
    }
   ],
   "source": [
    "s='SUJATA'\n",
    "print(s[1:-1])\n",
    "print(s[::-2])\n",
    "print(s[::3])"
   ]
  },
  {
   "cell_type": "code",
   "execution_count": 64,
   "metadata": {},
   "outputs": [
    {
     "name": "stdout",
     "output_type": "stream",
     "text": [
      "|python    |        JAVA        |   Android\n",
      "|python    |        JAVA        |   Android\n"
     ]
    }
   ],
   "source": [
    "a1=\"python\"\n",
    "a2=\"JAVA\"\n",
    "a3=\"Android\"\n",
    "print(\"|{:<10}|{:^20}|{:>10}\".format(a1,a2,a3))\n",
    "print(\"|{:<10}|{:^20}|{:>10}\".format(a1,a2,a3))"
   ]
  },
  {
   "cell_type": "code",
   "execution_count": 70,
   "metadata": {},
   "outputs": [
    {
     "name": "stdout",
     "output_type": "stream",
     "text": [
      "CDAC INDIA\n",
      "cdac india\n"
     ]
    }
   ],
   "source": [
    "str1=\"cdac india\"\n",
    "str2=str1.upper()\n",
    "print(str2)\n",
    "print(str1)\n"
   ]
  },
  {
   "cell_type": "code",
   "execution_count": 73,
   "metadata": {},
   "outputs": [
    {
     "data": {
      "text/plain": [
       "['patna', 'noida', 'delhi', 'mumbai', 'kolkata']"
      ]
     },
     "execution_count": 73,
     "metadata": {},
     "output_type": "execute_result"
    }
   ],
   "source": [
    "cities=\"patna,noida,delhi,mumbai,kolkata\"\n",
    "newdata=cities.split(\",\")\n",
    "print(newdata)\n"
   ]
  }
 ],
 "metadata": {
  "kernelspec": {
   "display_name": "Python 3",
   "language": "python",
   "name": "python3"
  },
  "language_info": {
   "codemirror_mode": {
    "name": "ipython",
    "version": 3
   },
   "file_extension": ".py",
   "mimetype": "text/x-python",
   "name": "python",
   "nbconvert_exporter": "python",
   "pygments_lexer": "ipython3",
   "version": "3.11.8"
  }
 },
 "nbformat": 4,
 "nbformat_minor": 2
}
