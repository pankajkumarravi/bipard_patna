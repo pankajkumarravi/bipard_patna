{
 "cells": [
  {
   "cell_type": "code",
   "execution_count": 1,
   "metadata": {},
   "outputs": [
    {
     "name": "stdout",
     "output_type": "stream",
     "text": [
      "my second program\n"
     ]
    }
   ],
   "source": [
    "print(\"my second program\")"
   ]
  },
  {
   "cell_type": "code",
   "execution_count": null,
   "metadata": {},
   "outputs": [],
   "source": [
    "print(\"second cell\")\n",
    "#help('for')\n",
    "#help('print')\n",
    "\n",
    "for i in range (10):\n",
    "    #print(i,end=\",\")\n",
    "    print(i,i*i,i*i*i,sep=\",\")\n",
    "    #help('end')\n",
    "    print(\"===============================\")\n",
    "    print(0b0010)\n",
    "\n",
    "    num1=\"40\"\n",
    "    num2=\"90\"\n",
    "    result=int(num1)+int(num2)\n",
    "    print(result)\n",
    "\n",
    "    print(20//23)\n",
    "\n",
    "\n",
    "\n"
   ]
  },
  {
   "cell_type": "code",
   "execution_count": null,
   "metadata": {},
   "outputs": [],
   "source": [
    "#swap 2 values using three different ways\n",
    "\n",
    "a=90\n",
    "b=40\n",
    "\n",
    "c=a\n",
    "a=b\n",
    "b=c"
   ]
  }
 ],
 "metadata": {
  "kernelspec": {
   "display_name": "Python 3",
   "language": "python",
   "name": "python3"
  },
  "language_info": {
   "codemirror_mode": {
    "name": "ipython",
    "version": 3
   },
   "file_extension": ".py",
   "mimetype": "text/x-python",
   "name": "python",
   "nbconvert_exporter": "python",
   "pygments_lexer": "ipython3",
   "version": "3.11.8"
  }
 },
 "nbformat": 4,
 "nbformat_minor": 2
}
