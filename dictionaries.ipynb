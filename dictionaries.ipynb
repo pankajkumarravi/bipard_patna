{
 "cells": [
  {
   "cell_type": "code",
   "execution_count": 1,
   "metadata": {},
   "outputs": [
    {
     "name": "stdout",
     "output_type": "stream",
     "text": [
      "{}\n",
      "dict_keys([1, 2, 3])\n"
     ]
    }
   ],
   "source": [
    "#create a dictionary, without using value\n",
    "Dict={}\n",
    "#create a dictionary, with using key and value\n",
    "Dict2={1:'Python',2:'SQL',3:'Database'}\n",
    "print(Dict)\n",
    "print(Dict2.keys())\n",
    "print(Dict2.values())"
   ]
  }
 ],
 "metadata": {
  "kernelspec": {
   "display_name": "Python 3",
   "language": "python",
   "name": "python3"
  },
  "language_info": {
   "codemirror_mode": {
    "name": "ipython",
    "version": 3
   },
   "file_extension": ".py",
   "mimetype": "text/x-python",
   "name": "python",
   "nbconvert_exporter": "python",
   "pygments_lexer": "ipython3",
   "version": "3.11.8"
  }
 },
 "nbformat": 4,
 "nbformat_minor": 2
}
